{
 "cells": [
  {
   "cell_type": "code",
   "execution_count": 2,
   "id": "d0865d6b",
   "metadata": {},
   "outputs": [],
   "source": [
    "## sliceing"
   ]
  },
  {
   "cell_type": "code",
   "execution_count": 3,
   "id": "086b814a",
   "metadata": {},
   "outputs": [],
   "source": [
    "## s=[start index: end index: step] #end -1"
   ]
  },
  {
   "cell_type": "code",
   "execution_count": null,
   "id": "360a80ea",
   "metadata": {},
   "outputs": [],
   "source": []
  },
  {
   "cell_type": "code",
   "execution_count": 4,
   "id": "fdac172b",
   "metadata": {},
   "outputs": [
    {
     "name": "stdout",
     "output_type": "stream",
     "text": [
      "hjirto\n"
     ]
    }
   ],
   "source": [
    "a=\"Pythonjupiternotebook\"\n",
    "print(a[3:-1:3])"
   ]
  },
  {
   "cell_type": "code",
   "execution_count": 8,
   "id": "8a6da0aa",
   "metadata": {},
   "outputs": [
    {
     "name": "stdout",
     "output_type": "stream",
     "text": [
      "es\n"
     ]
    }
   ],
   "source": [
    "b=\"ameemshaik\"\n",
    "print(b[2:-2:3])"
   ]
  },
  {
   "cell_type": "code",
   "execution_count": 9,
   "id": "8f6192c7",
   "metadata": {},
   "outputs": [
    {
     "name": "stdout",
     "output_type": "stream",
     "text": [
      "eort\n"
     ]
    }
   ],
   "source": [
    "c=\"jupiternote\"\n",
    "print(c[-1:3:-2])"
   ]
  },
  {
   "cell_type": "code",
   "execution_count": 10,
   "id": "dfc1350d",
   "metadata": {},
   "outputs": [
    {
     "name": "stdout",
     "output_type": "stream",
     "text": [
      "din\n"
     ]
    }
   ],
   "source": [
    "d=\"startingindex\"\n",
    "print(d[-3:5:-2])"
   ]
  },
  {
   "cell_type": "code",
   "execution_count": 11,
   "id": "445931cb",
   "metadata": {},
   "outputs": [
    {
     "name": "stdout",
     "output_type": "stream",
     "text": [
      "dni\n"
     ]
    }
   ],
   "source": [
    "e=\"endingindex\"\n",
    "print(e[-3:-6:-1])"
   ]
  },
  {
   "cell_type": "code",
   "execution_count": 12,
   "id": "be4f3a5d",
   "metadata": {},
   "outputs": [
    {
     "name": "stdout",
     "output_type": "stream",
     "text": [
      "ne\n"
     ]
    }
   ],
   "source": [
    "f=\"insertcell\"\n",
    "print(f[1:5:2])"
   ]
  },
  {
   "cell_type": "code",
   "execution_count": 14,
   "id": "d1850d5d",
   "metadata": {},
   "outputs": [
    {
     "name": "stdout",
     "output_type": "stream",
     "text": [
      "to\n"
     ]
    }
   ],
   "source": [
    "g=\"check point\"\n",
    "print(g[-1:-5:-3])"
   ]
  },
  {
   "cell_type": "code",
   "execution_count": 16,
   "id": "52a717d6",
   "metadata": {},
   "outputs": [
    {
     "name": "stdout",
     "output_type": "stream",
     "text": [
      "cal ho\n"
     ]
    }
   ],
   "source": [
    "h=\"local host\"\n",
    "print(h[2:-2:1])"
   ]
  },
  {
   "cell_type": "code",
   "execution_count": 17,
   "id": "1ff10ac5",
   "metadata": {},
   "outputs": [
    {
     "name": "stdout",
     "output_type": "stream",
     "text": [
      "a \n"
     ]
    }
   ],
   "source": [
    "i=\"local host\"\n",
    "print(i[3:-3:2])"
   ]
  },
  {
   "cell_type": "code",
   "execution_count": 20,
   "id": "a10fccbd",
   "metadata": {},
   "outputs": [
    {
     "name": "stdout",
     "output_type": "stream",
     "text": [
      "ile \n"
     ]
    }
   ],
   "source": [
    "j=\"file edit\"\n",
    "print(j[1:5:1])"
   ]
  },
  {
   "cell_type": "code",
   "execution_count": 21,
   "id": "0c415850",
   "metadata": {},
   "outputs": [
    {
     "name": "stdout",
     "output_type": "stream",
     "text": [
      "it \n"
     ]
    }
   ],
   "source": [
    "k=\"edit view\"\n",
    "print(k[2:5:1])"
   ]
  },
  {
   "cell_type": "code",
   "execution_count": 23,
   "id": "a64e1ce4",
   "metadata": {},
   "outputs": [
    {
     "name": "stdout",
     "output_type": "stream",
     "text": [
      "n \n"
     ]
    }
   ],
   "source": [
    "l=\"kernel start\"\n",
    "print(l[3:7:3])"
   ]
  },
  {
   "cell_type": "code",
   "execution_count": 1,
   "id": "68106ef4",
   "metadata": {},
   "outputs": [
    {
     "name": "stdout",
     "output_type": "stream",
     "text": [
      "wde\n"
     ]
    }
   ],
   "source": [
    "m=\"widget cell\"\n",
    "print(m[0:5:2])"
   ]
  },
  {
   "cell_type": "code",
   "execution_count": 26,
   "id": "51edd818",
   "metadata": {},
   "outputs": [
    {
     "name": "stdout",
     "output_type": "stream",
     "text": [
      "oe\n"
     ]
    }
   ],
   "source": [
    "n=\"wiget celo\"\n",
    "print(n[-1:-4:-2])"
   ]
  },
  {
   "cell_type": "code",
   "execution_count": 31,
   "id": "45cfbf7d",
   "metadata": {},
   "outputs": [
    {
     "name": "stdout",
     "output_type": "stream",
     "text": [
      "en\n"
     ]
    }
   ],
   "source": [
    "o=\"runningnote\"\n",
    "print(o[-1:-6:-3])"
   ]
  },
  {
   "cell_type": "code",
   "execution_count": 33,
   "id": "a20261ae",
   "metadata": {},
   "outputs": [
    {
     "name": "stdout",
     "output_type": "stream",
     "text": [
      "y\n"
     ]
    }
   ],
   "source": [
    "p=\"photography\"\n",
    "print(p[-1:-5:-4])"
   ]
  },
  {
   "cell_type": "code",
   "execution_count": 35,
   "id": "f874e110",
   "metadata": {},
   "outputs": [
    {
     "name": "stdout",
     "output_type": "stream",
     "text": [
      "uz\n"
     ]
    }
   ],
   "source": [
    "q=\"quiz124\"\n",
    "print(q[1:4:2])"
   ]
  },
  {
   "cell_type": "code",
   "execution_count": 36,
   "id": "212ccfe4",
   "metadata": {},
   "outputs": [
    {
     "name": "stdout",
     "output_type": "stream",
     "text": [
      "en\n"
     ]
    }
   ],
   "source": [
    "r=\"random range\"\n",
    "print(r[-1:-5:-2])"
   ]
  },
  {
   "cell_type": "code",
   "execution_count": 39,
   "id": "2f698480",
   "metadata": {},
   "outputs": [
    {
     "name": "stdout",
     "output_type": "stream",
     "text": [
      "es\n"
     ]
    }
   ],
   "source": [
    "s=\"sets12345\"\n",
    "print(s[1:-5:2])"
   ]
  },
  {
   "cell_type": "code",
   "execution_count": 44,
   "id": "8e27db8a",
   "metadata": {},
   "outputs": [
    {
     "name": "stdout",
     "output_type": "stream",
     "text": [
      "ypes of \n"
     ]
    }
   ],
   "source": [
    "t=\"types of data\"\n",
    "print(t[1:-4:1])"
   ]
  },
  {
   "cell_type": "code",
   "execution_count": 45,
   "id": "7319b4be",
   "metadata": {},
   "outputs": [
    {
     "name": "stdout",
     "output_type": "stream",
     "text": [
      "sn \n"
     ]
    }
   ],
   "source": [
    "u=\"unique ones\"\n",
    "print(u[-1:4:-2])"
   ]
  },
  {
   "cell_type": "code",
   "execution_count": 49,
   "id": "3a72173f",
   "metadata": {},
   "outputs": [
    {
     "name": "stdout",
     "output_type": "stream",
     "text": [
      "riation 5\n"
     ]
    }
   ],
   "source": [
    "v=\"variation 5678\"\n",
    "print(v[2:-3:1])"
   ]
  },
  {
   "cell_type": "code",
   "execution_count": 51,
   "id": "48365b6f",
   "metadata": {},
   "outputs": [
    {
     "name": "stdout",
     "output_type": "stream",
     "text": [
      "ih\n"
     ]
    }
   ],
   "source": [
    "w=\"width 98765\"\n",
    "print(w[1:7:3])"
   ]
  },
  {
   "cell_type": "code",
   "execution_count": 52,
   "id": "f2d5eb30",
   "metadata": {},
   "outputs": [
    {
     "name": "stdout",
     "output_type": "stream",
     "text": [
      "kos\n"
     ]
    }
   ],
   "source": [
    "x=\"notesbook\"\n",
    "print(x[-1:2:-2])"
   ]
  },
  {
   "cell_type": "code",
   "execution_count": 53,
   "id": "bcdc3e6c",
   "metadata": {},
   "outputs": [
    {
     "name": "stdout",
     "output_type": "stream",
     "text": [
      "73n\n"
     ]
    }
   ],
   "source": [
    "y=\"sliceing3579\"\n",
    "print(y[-2:5:-2])"
   ]
  },
  {
   "cell_type": "code",
   "execution_count": 54,
   "id": "6779ca81",
   "metadata": {},
   "outputs": [
    {
     "name": "stdout",
     "output_type": "stream",
     "text": [
      "el\n"
     ]
    }
   ],
   "source": [
    "z=\"pythonslice\"\n",
    "print(z[-1:5:-3])"
   ]
  },
  {
   "cell_type": "code",
   "execution_count": null,
   "id": "14274d97",
   "metadata": {},
   "outputs": [],
   "source": []
  }
 ],
 "metadata": {
  "kernelspec": {
   "display_name": "Python 3 (ipykernel)",
   "language": "python",
   "name": "python3"
  },
  "language_info": {
   "codemirror_mode": {
    "name": "ipython",
    "version": 3
   },
   "file_extension": ".py",
   "mimetype": "text/x-python",
   "name": "python",
   "nbconvert_exporter": "python",
   "pygments_lexer": "ipython3",
   "version": "3.10.9"
  }
 },
 "nbformat": 4,
 "nbformat_minor": 5
}
